{
 "cells": [
  {
   "cell_type": "code",
   "execution_count": 1,
   "metadata": {},
   "outputs": [
    {
     "name": "stdout",
     "output_type": "stream",
     "text": [
      "Requirement already satisfied: llama-parser in c:\\users\\aagam\\desktop\\pythonrev\\.venv\\lib\\site-packages (0.1.2)\n",
      "Requirement already satisfied: llama-index in c:\\users\\aagam\\desktop\\pythonrev\\.venv\\lib\\site-packages (0.9.48)\n",
      "Requirement already satisfied: llama-parse in c:\\users\\aagam\\desktop\\pythonrev\\.venv\\lib\\site-packages (0.5.7)\n",
      "Requirement already satisfied: SQLAlchemy>=1.4.49 in c:\\users\\aagam\\desktop\\pythonrev\\.venv\\lib\\site-packages (from SQLAlchemy[asyncio]>=1.4.49->llama-index) (2.0.35)\n",
      "Requirement already satisfied: aiohttp<4.0.0,>=3.8.6 in c:\\users\\aagam\\desktop\\pythonrev\\.venv\\lib\\site-packages (from llama-index) (3.10.10)\n",
      "Requirement already satisfied: dataclasses-json in c:\\users\\aagam\\desktop\\pythonrev\\.venv\\lib\\site-packages (from llama-index) (0.6.7)\n",
      "Requirement already satisfied: deprecated>=1.2.9.3 in c:\\users\\aagam\\desktop\\pythonrev\\.venv\\lib\\site-packages (from llama-index) (1.2.14)\n",
      "Requirement already satisfied: dirtyjson<2.0.0,>=1.0.8 in c:\\users\\aagam\\desktop\\pythonrev\\.venv\\lib\\site-packages (from llama-index) (1.0.8)\n",
      "Requirement already satisfied: fsspec>=2023.5.0 in c:\\users\\aagam\\desktop\\pythonrev\\.venv\\lib\\site-packages (from llama-index) (2024.9.0)\n",
      "Requirement already satisfied: httpx in c:\\users\\aagam\\desktop\\pythonrev\\.venv\\lib\\site-packages (from llama-index) (0.27.2)\n",
      "Requirement already satisfied: nest-asyncio<2.0.0,>=1.5.8 in c:\\users\\aagam\\desktop\\pythonrev\\.venv\\lib\\site-packages (from llama-index) (1.6.0)\n",
      "Requirement already satisfied: networkx>=3.0 in c:\\users\\aagam\\desktop\\pythonrev\\.venv\\lib\\site-packages (from llama-index) (3.4.1)\n",
      "Requirement already satisfied: nltk<4.0.0,>=3.8.1 in c:\\users\\aagam\\desktop\\pythonrev\\.venv\\lib\\site-packages (from llama-index) (3.9.1)\n",
      "Requirement already satisfied: numpy in c:\\users\\aagam\\desktop\\pythonrev\\.venv\\lib\\site-packages (from llama-index) (1.26.4)\n",
      "Requirement already satisfied: openai>=1.1.0 in c:\\users\\aagam\\desktop\\pythonrev\\.venv\\lib\\site-packages (from llama-index) (1.51.2)\n",
      "Requirement already satisfied: pandas in c:\\users\\aagam\\desktop\\pythonrev\\.venv\\lib\\site-packages (from llama-index) (2.2.3)\n",
      "Requirement already satisfied: requests>=2.31.0 in c:\\users\\aagam\\desktop\\pythonrev\\.venv\\lib\\site-packages (from llama-index) (2.32.3)\n",
      "Requirement already satisfied: tenacity<9.0.0,>=8.2.0 in c:\\users\\aagam\\desktop\\pythonrev\\.venv\\lib\\site-packages (from llama-index) (8.5.0)\n",
      "Requirement already satisfied: tiktoken>=0.3.3 in c:\\users\\aagam\\desktop\\pythonrev\\.venv\\lib\\site-packages (from llama-index) (0.8.0)\n",
      "Requirement already satisfied: typing-extensions>=4.5.0 in c:\\users\\aagam\\desktop\\pythonrev\\.venv\\lib\\site-packages (from llama-index) (4.12.2)\n",
      "Requirement already satisfied: typing-inspect>=0.8.0 in c:\\users\\aagam\\desktop\\pythonrev\\.venv\\lib\\site-packages (from llama-index) (0.9.0)\n",
      "Requirement already satisfied: llama-index-core>=0.11.0 in c:\\users\\aagam\\desktop\\pythonrev\\.venv\\lib\\site-packages (from llama-parse) (0.11.17)\n",
      "Requirement already satisfied: aiohappyeyeballs>=2.3.0 in c:\\users\\aagam\\desktop\\pythonrev\\.venv\\lib\\site-packages (from aiohttp<4.0.0,>=3.8.6->llama-index) (2.4.3)\n",
      "Requirement already satisfied: aiosignal>=1.1.2 in c:\\users\\aagam\\desktop\\pythonrev\\.venv\\lib\\site-packages (from aiohttp<4.0.0,>=3.8.6->llama-index) (1.3.1)\n",
      "Requirement already satisfied: attrs>=17.3.0 in c:\\users\\aagam\\desktop\\pythonrev\\.venv\\lib\\site-packages (from aiohttp<4.0.0,>=3.8.6->llama-index) (24.2.0)\n",
      "Requirement already satisfied: frozenlist>=1.1.1 in c:\\users\\aagam\\desktop\\pythonrev\\.venv\\lib\\site-packages (from aiohttp<4.0.0,>=3.8.6->llama-index) (1.4.1)\n",
      "Requirement already satisfied: multidict<7.0,>=4.5 in c:\\users\\aagam\\desktop\\pythonrev\\.venv\\lib\\site-packages (from aiohttp<4.0.0,>=3.8.6->llama-index) (6.1.0)\n",
      "Requirement already satisfied: yarl<2.0,>=1.12.0 in c:\\users\\aagam\\desktop\\pythonrev\\.venv\\lib\\site-packages (from aiohttp<4.0.0,>=3.8.6->llama-index) (1.15.0)\n",
      "Requirement already satisfied: wrapt<2,>=1.10 in c:\\users\\aagam\\desktop\\pythonrev\\.venv\\lib\\site-packages (from deprecated>=1.2.9.3->llama-index) (1.16.0)\n",
      "Requirement already satisfied: PyYAML>=6.0.1 in c:\\users\\aagam\\desktop\\pythonrev\\.venv\\lib\\site-packages (from llama-index-core>=0.11.0->llama-parse) (6.0.2)\n",
      "Requirement already satisfied: pillow>=9.0.0 in c:\\users\\aagam\\desktop\\pythonrev\\.venv\\lib\\site-packages (from llama-index-core>=0.11.0->llama-parse) (10.4.0)\n",
      "Requirement already satisfied: pydantic<3.0.0,>=2.7.0 in c:\\users\\aagam\\desktop\\pythonrev\\.venv\\lib\\site-packages (from llama-index-core>=0.11.0->llama-parse) (2.9.2)\n",
      "Requirement already satisfied: tqdm<5.0.0,>=4.66.1 in c:\\users\\aagam\\desktop\\pythonrev\\.venv\\lib\\site-packages (from llama-index-core>=0.11.0->llama-parse) (4.66.5)\n",
      "Requirement already satisfied: click in c:\\users\\aagam\\desktop\\pythonrev\\.venv\\lib\\site-packages (from nltk<4.0.0,>=3.8.1->llama-index) (8.1.7)\n",
      "Requirement already satisfied: joblib in c:\\users\\aagam\\desktop\\pythonrev\\.venv\\lib\\site-packages (from nltk<4.0.0,>=3.8.1->llama-index) (1.4.2)\n",
      "Requirement already satisfied: regex>=2021.8.3 in c:\\users\\aagam\\desktop\\pythonrev\\.venv\\lib\\site-packages (from nltk<4.0.0,>=3.8.1->llama-index) (2024.9.11)\n",
      "Requirement already satisfied: anyio<5,>=3.5.0 in c:\\users\\aagam\\desktop\\pythonrev\\.venv\\lib\\site-packages (from openai>=1.1.0->llama-index) (4.6.0)\n",
      "Requirement already satisfied: distro<2,>=1.7.0 in c:\\users\\aagam\\desktop\\pythonrev\\.venv\\lib\\site-packages (from openai>=1.1.0->llama-index) (1.9.0)\n",
      "Requirement already satisfied: jiter<1,>=0.4.0 in c:\\users\\aagam\\desktop\\pythonrev\\.venv\\lib\\site-packages (from openai>=1.1.0->llama-index) (0.6.1)\n",
      "Requirement already satisfied: sniffio in c:\\users\\aagam\\desktop\\pythonrev\\.venv\\lib\\site-packages (from openai>=1.1.0->llama-index) (1.3.1)\n",
      "Requirement already satisfied: certifi in c:\\users\\aagam\\desktop\\pythonrev\\.venv\\lib\\site-packages (from httpx->llama-index) (2024.8.30)\n",
      "Requirement already satisfied: httpcore==1.* in c:\\users\\aagam\\desktop\\pythonrev\\.venv\\lib\\site-packages (from httpx->llama-index) (1.0.6)\n",
      "Requirement already satisfied: idna in c:\\users\\aagam\\desktop\\pythonrev\\.venv\\lib\\site-packages (from httpx->llama-index) (3.10)\n",
      "Requirement already satisfied: h11<0.15,>=0.13 in c:\\users\\aagam\\desktop\\pythonrev\\.venv\\lib\\site-packages (from httpcore==1.*->httpx->llama-index) (0.14.0)\n",
      "Requirement already satisfied: charset-normalizer<4,>=2 in c:\\users\\aagam\\desktop\\pythonrev\\.venv\\lib\\site-packages (from requests>=2.31.0->llama-index) (3.4.0)\n",
      "Requirement already satisfied: urllib3<3,>=1.21.1 in c:\\users\\aagam\\desktop\\pythonrev\\.venv\\lib\\site-packages (from requests>=2.31.0->llama-index) (2.2.3)\n",
      "Requirement already satisfied: greenlet!=0.4.17 in c:\\users\\aagam\\desktop\\pythonrev\\.venv\\lib\\site-packages (from SQLAlchemy>=1.4.49->SQLAlchemy[asyncio]>=1.4.49->llama-index) (3.1.1)\n",
      "Requirement already satisfied: mypy-extensions>=0.3.0 in c:\\users\\aagam\\desktop\\pythonrev\\.venv\\lib\\site-packages (from typing-inspect>=0.8.0->llama-index) (1.0.0)\n",
      "Requirement already satisfied: marshmallow<4.0.0,>=3.18.0 in c:\\users\\aagam\\desktop\\pythonrev\\.venv\\lib\\site-packages (from dataclasses-json->llama-index) (3.22.0)\n",
      "Requirement already satisfied: python-dateutil>=2.8.2 in c:\\users\\aagam\\desktop\\pythonrev\\.venv\\lib\\site-packages (from pandas->llama-index) (2.9.0.post0)\n",
      "Requirement already satisfied: pytz>=2020.1 in c:\\users\\aagam\\desktop\\pythonrev\\.venv\\lib\\site-packages (from pandas->llama-index) (2024.2)\n",
      "Requirement already satisfied: tzdata>=2022.7 in c:\\users\\aagam\\desktop\\pythonrev\\.venv\\lib\\site-packages (from pandas->llama-index) (2024.2)\n",
      "Requirement already satisfied: packaging>=17.0 in c:\\users\\aagam\\desktop\\pythonrev\\.venv\\lib\\site-packages (from marshmallow<4.0.0,>=3.18.0->dataclasses-json->llama-index) (24.1)\n",
      "Requirement already satisfied: annotated-types>=0.6.0 in c:\\users\\aagam\\desktop\\pythonrev\\.venv\\lib\\site-packages (from pydantic<3.0.0,>=2.7.0->llama-index-core>=0.11.0->llama-parse) (0.7.0)\n",
      "Requirement already satisfied: pydantic-core==2.23.4 in c:\\users\\aagam\\desktop\\pythonrev\\.venv\\lib\\site-packages (from pydantic<3.0.0,>=2.7.0->llama-index-core>=0.11.0->llama-parse) (2.23.4)\n",
      "Requirement already satisfied: six>=1.5 in c:\\users\\aagam\\desktop\\pythonrev\\.venv\\lib\\site-packages (from python-dateutil>=2.8.2->pandas->llama-index) (1.16.0)\n",
      "Requirement already satisfied: colorama in c:\\users\\aagam\\desktop\\pythonrev\\.venv\\lib\\site-packages (from tqdm<5.0.0,>=4.66.1->llama-index-core>=0.11.0->llama-parse) (0.4.6)\n",
      "Requirement already satisfied: propcache>=0.2.0 in c:\\users\\aagam\\desktop\\pythonrev\\.venv\\lib\\site-packages (from yarl<2.0,>=1.12.0->aiohttp<4.0.0,>=3.8.6->llama-index) (0.2.0)\n",
      "Note: you may need to restart the kernel to use updated packages.\n"
     ]
    }
   ],
   "source": [
    "%pip install llama-parser llama-index llama-parse"
   ]
  },
  {
   "cell_type": "code",
   "execution_count": null,
   "metadata": {},
   "outputs": [],
   "source": []
  }
 ],
 "metadata": {
  "kernelspec": {
   "display_name": ".venv",
   "language": "python",
   "name": "python3"
  },
  "language_info": {
   "codemirror_mode": {
    "name": "ipython",
    "version": 3
   },
   "file_extension": ".py",
   "mimetype": "text/x-python",
   "name": "python",
   "nbconvert_exporter": "python",
   "pygments_lexer": "ipython3",
   "version": "3.11.2"
  }
 },
 "nbformat": 4,
 "nbformat_minor": 2
}
