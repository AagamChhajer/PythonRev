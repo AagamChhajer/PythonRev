{
 "cells": [
  {
   "cell_type": "code",
   "execution_count": 8,
   "metadata": {},
   "outputs": [],
   "source": [
    "import whisper\n",
    "model = whisper.load_model(\"tiny\")\n",
    "# Transcribe audio using Whisper\n",
    "\n"
   ]
  },
  {
   "cell_type": "code",
   "execution_count": 9,
   "metadata": {},
   "outputs": [
    {
     "name": "stdout",
     "output_type": "stream",
     "text": [
      "Transcription saved to .txt and .docx files.\n"
     ]
    }
   ],
   "source": [
    "import whisper\n",
    "from docx import Document\n",
    "\n",
    "# Transcribe audio using Whisper\n",
    "def transcribe_audio(audio_path): # Choose the model you need: 'tiny', 'small', 'medium', 'large'\n",
    "    \n",
    "    # Transcribe the audio file\n",
    "    result = model.transcribe(audio_path)\n",
    "    \n",
    "    # Return the transcribed text\n",
    "    return result['text']\n",
    "\n",
    "# Save transcription to a .txt file\n",
    "\n",
    "\n",
    "# Save transcription to a .docx file\n",
    "def save_transcription_to_docx(transcription, docx_file_path):\n",
    "    doc = Document()\n",
    "    doc.add_paragraph(transcription)\n",
    "    doc.save(docx_file_path)\n",
    "\n",
    "# Define file paths\n",
    "audio_file = \"audio.mp3\"  # Input audio file\n",
    "txt_file = \"transcription.txt\"      # Output .txt file\n",
    "docx_file = \"transcription.docx\"    # Output .docx file\n",
    "\n",
    "# Transcribe the audio\n",
    "transcription = transcribe_audio(audio_file)\n",
    "\n",
    "save_transcription_to_docx(transcription, docx_file)\n",
    "\n",
    "print(\"Transcription saved to .txt and .docx files.\")\n"
   ]
  },
  {
   "cell_type": "code",
   "execution_count": null,
   "metadata": {},
   "outputs": [],
   "source": []
  }
 ],
 "metadata": {
  "kernelspec": {
   "display_name": "Python 3",
   "language": "python",
   "name": "python3"
  },
  "language_info": {
   "codemirror_mode": {
    "name": "ipython",
    "version": 3
   },
   "file_extension": ".py",
   "mimetype": "text/x-python",
   "name": "python",
   "nbconvert_exporter": "python",
   "pygments_lexer": "ipython3",
   "version": "3.11.2"
  }
 },
 "nbformat": 4,
 "nbformat_minor": 2
}
